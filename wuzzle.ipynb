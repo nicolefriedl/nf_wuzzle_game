{
 "cells": [
  {
   "cell_type": "code",
   "execution_count": 33,
   "id": "37bb5f18",
   "metadata": {},
   "outputs": [],
   "source": [
    "import random"
   ]
  },
  {
   "cell_type": "code",
   "execution_count": 34,
   "id": "51d61874",
   "metadata": {},
   "outputs": [],
   "source": [
    "word_bank = ['lantern', 'whistle', 'velvet', 'horizon', 'canyon', 'prism',\n",
    "             'puzzle', 'orchard', 'thread', 'anchor', 'breeze', 'meadow', 'orbit', 'cipher', \n",
    "              'sharp', 'willow', 'glacier', 'tapestry', 'quill', 'harbor' \n",
    "               'summit', 'mosaic', 'dusk', 'compass', 'cinder', 'fable', \n",
    "                'drizzle', 'spire', 'tavern', 'badger', 'ember', 'vessel', \n",
    "                 'forge', 'fern', 'marble', 'twilight', 'gale', 'ripple',\n",
    "                  'nomad', 'chisel', 'whisper', 'stain', 'darkness', 'solstice', 'summer', \n",
    "                   'quartz']"
   ]
  },
  {
   "cell_type": "code",
   "execution_count": 35,
   "id": "b38ae464",
   "metadata": {},
   "outputs": [],
   "source": [
    "word = random.choice(word_bank)"
   ]
  },
  {
   "cell_type": "code",
   "execution_count": 36,
   "id": "13c63891",
   "metadata": {},
   "outputs": [],
   "source": [
    "guessedWord = ['_'] * len(word)"
   ]
  },
  {
   "cell_type": "code",
   "execution_count": 37,
   "id": "7c73cf35",
   "metadata": {},
   "outputs": [],
   "source": [
    "attempts = 5\n",
    "guessed_letters = []"
   ]
  },
  {
   "cell_type": "code",
   "execution_count": 38,
   "id": "07eb63d1",
   "metadata": {},
   "outputs": [
    {
     "name": "stdout",
     "output_type": "stream",
     "text": [
      "\n",
      "Current word: _ _ _ _ _ _ _\n",
      "Letters guessed: \n"
     ]
    },
    {
     "name": "stdout",
     "output_type": "stream",
     "text": [
      "Invalid input. Guess one letter or the full word.\n",
      "\n",
      "Current word: _ _ _ _ _ _ _\n",
      "Letters guessed: \n",
      "Invalid input. Guess one letter or the full word.\n",
      "\n",
      "Current word: _ _ _ _ _ _ _\n",
      "Letters guessed: \n",
      "Invalid input. Guess one letter or the full word.\n",
      "\n",
      "Current word: _ _ _ _ _ _ _\n",
      "Letters guessed: \n",
      "Wrong guess! Attempts left: 4\n",
      "\n",
      "Current word: _ _ _ _ _ _ _\n",
      "Letters guessed: a\n",
      "Wrong guess! Attempts left: 3\n",
      "\n",
      "Current word: _ _ _ _ _ _ _\n",
      "Letters guessed: a, g\n",
      "Great guess! _ o _ _ _ o _\n",
      "\n",
      "Current word: _ o _ _ _ o _\n",
      "Letters guessed: a, g, o\n",
      "\n",
      "🎉 Amazing! You guessed the full word: horizon\n"
     ]
    }
   ],
   "source": [
    "while attempts > 0:\n",
    "    print('\\nCurrent word: ' + ' '.join(guessedWord))\n",
    "    print('Letters guessed: ' + ', '.join(sorted(guessed_letters)))\n",
    "    \n",
    "    guess = input('Guess a letter or the full word: ').lower()\n",
    "    \n",
    "    # Full-word guess\n",
    "    if guess == word:\n",
    "        guessedWord = list(word)\n",
    "        print('\\n🎉 Amazing! You guessed the full word: ' + word)\n",
    "        break\n",
    "    \n",
    "    # Single letter guess\n",
    "    elif len(guess) == 1:\n",
    "        if guess in guessed_letters:\n",
    "            print(\"You've already guessed that letter!\")\n",
    "            continue\n",
    "        guessed_letters.append(guess)\n",
    "        \n",
    "        if guess in word:\n",
    "            for i in range(len(word)):\n",
    "                if word[i] == guess:\n",
    "                    guessedWord[i] = guess\n",
    "            # Wordle-style hint: letters in the word but not yet in the correct spot\n",
    "            hints = [l for l in word if l not in guessedWord and l in guessed_letters]\n",
    "            hint_msg = f\"Hint letters (in word but not revealed): {', '.join(sorted(hints))}\" if hints else \"\"\n",
    "            print('Great guess! ' + ' '.join(guessedWord))\n",
    "            if hint_msg:\n",
    "                print(hint_msg)\n",
    "        else:\n",
    "            attempts -= 1\n",
    "            print(f'Wrong guess! Attempts left: {attempts}')\n",
    "    else:\n",
    "        print(\"Invalid input. Guess one letter or the full word.\")\n",
    "    \n",
    "    if '_' not in guessedWord:\n",
    "        print('\\n🎉 Congratulations!! You guessed the word: ' + word)\n",
    "        break\n",
    "\n",
    "if attempts == 0 and '_' in guessedWord:\n",
    "    print(\"\\n💀 You've run out of attempts! The word was: \" + word)\n"
   ]
  }
 ],
 "metadata": {
  "kernelspec": {
   "display_name": "base",
   "language": "python",
   "name": "python3"
  },
  "language_info": {
   "codemirror_mode": {
    "name": "ipython",
    "version": 3
   },
   "file_extension": ".py",
   "mimetype": "text/x-python",
   "name": "python",
   "nbconvert_exporter": "python",
   "pygments_lexer": "ipython3",
   "version": "3.12.4"
  }
 },
 "nbformat": 4,
 "nbformat_minor": 5
}
